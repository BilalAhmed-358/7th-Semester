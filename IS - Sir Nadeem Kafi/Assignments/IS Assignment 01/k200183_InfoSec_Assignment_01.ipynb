{
  "cells": [
    {
      "cell_type": "code",
      "execution_count": 72,
      "metadata": {
        "colab": {
          "base_uri": "https://localhost:8080/"
        },
        "id": "3jKcclY7zJMr",
        "outputId": "ce6dc98d-0145-44f0-d15b-0dbff28b591e"
      },
      "outputs": [
        {
          "output_type": "stream",
          "name": "stdout",
          "text": [
            "Requirement already satisfied: pycryptodome in /usr/local/lib/python3.10/dist-packages (3.19.0)\n"
          ]
        }
      ],
      "source": [
        "!pip install pycryptodome\n"
      ]
    },
    {
      "cell_type": "markdown",
      "metadata": {
        "id": "w1REVzZ99nv5"
      },
      "source": [
        "# DES for .txt, .exe and .rar files"
      ]
    },
    {
      "cell_type": "code",
      "execution_count": 73,
      "metadata": {
        "colab": {
          "base_uri": "https://localhost:8080/"
        },
        "id": "BiDTktcGxjCa",
        "outputId": "07154bf2-87eb-4979-eceb-e0ed83ab6d7f"
      },
      "outputs": [
        {
          "output_type": "stream",
          "name": "stdout",
          "text": [
            "Drive already mounted at /content/drive; to attempt to forcibly remount, call drive.mount(\"/content/drive\", force_remount=True).\n"
          ]
        }
      ],
      "source": [
        "from Crypto.Cipher import DES\n",
        "from Crypto.Random import get_random_bytes\n",
        "from google.colab import drive\n",
        "drive.mount('/content/drive')\n",
        "from Crypto.Cipher import DES\n",
        "import os\n",
        "import time\n",
        "from Crypto.Cipher import DES\n",
        "from Crypto.Util.Padding import unpad\n",
        "\n",
        "def pad(text):\n",
        "    while len(text) % 8 != 0:\n",
        "        text += b' '\n",
        "    return text\n",
        "\n",
        "def unpad(text):\n",
        "    return text.rstrip()\n",
        "\n",
        "def encrypt_file(input_file, output_file, key):\n",
        "    cipher = DES.new(key, DES.MODE_ECB)\n",
        "\n",
        "    with open(input_file, 'rb') as f_in:\n",
        "        plaintext = f_in.read()\n",
        "        padded_plaintext = pad(plaintext)\n",
        "        ciphertext = cipher.encrypt(padded_plaintext)\n",
        "\n",
        "    with open(output_file, 'wb') as f_out:\n",
        "        f_out.write(ciphertext)\n",
        "\n",
        "\n",
        "\n",
        "def decrypt_file(input_file, output_file, key):\n",
        "    cipher = DES.new(key, DES.MODE_ECB)\n",
        "\n",
        "    with open(input_file, 'rb') as f_in:\n",
        "        ciphertext = f_in.read()\n",
        "        decrypted_data = cipher.decrypt(ciphertext)\n",
        "\n",
        "    with open(output_file, 'wb') as f_out:\n",
        "        f_out.write(decrypted_data)\n",
        "\n",
        "\n",
        "\n",
        "\n",
        "def generate_key():\n",
        "    return os.urandom(8)"
      ]
    },
    {
      "cell_type": "markdown",
      "metadata": {
        "id": "p6XRjYNC9tAv"
      },
      "source": [
        "## DES for .txt files (1MB, 10MB and 50MB)"
      ]
    },
    {
      "cell_type": "markdown",
      "metadata": {
        "id": "sUIoaAzj9ui_"
      },
      "source": [
        "### Time take by 1MB text file"
      ]
    },
    {
      "cell_type": "code",
      "execution_count": 74,
      "metadata": {
        "colab": {
          "base_uri": "https://localhost:8080/"
        },
        "id": "BAeg6pYazyv7",
        "outputId": "1eb64b2a-823e-4806-b2e8-bb95a0c9066d"
      },
      "outputs": [
        {
          "output_type": "stream",
          "name": "stdout",
          "text": [
            "Encryption complete. Output saved to /content/drive/MyDrive/1MBEncryptedTextDES.txt.\n",
            "Decryption complete. Output saved to /content/drive/MyDrive/Decrypted/1MBDecryptedTextDES.txt.\n",
            "Time spent: 0.4380947379995632 seconds\n"
          ]
        }
      ],
      "source": [
        "start_time = time.perf_counter()\n",
        "input_file = '/content/drive/MyDrive/FilesForEncryption/TextFiles/1MB.txt'\n",
        "output_file = f'/content/drive/MyDrive/1MBEncryptedTextDES.txt'\n",
        "decrypt_file_path=f'/content/drive/MyDrive/Decrypted/1MBDecryptedTextDES.txt'\n",
        "key = generate_key()\n",
        "\n",
        "encrypt_file(input_file, output_file, key)\n",
        "decrypt_file(output_file,decrypt_file_path,key)\n",
        "\n",
        "print(f'Encryption complete. Output saved to {output_file}.')\n",
        "print(f'Decryption complete. Output saved to {decrypt_file_path}.')\n",
        "end_time = time.perf_counter()\n",
        "\n",
        "time_spent = end_time - start_time\n",
        "print(f\"Time spent: {time_spent} seconds\")\n"
      ]
    },
    {
      "cell_type": "markdown",
      "metadata": {
        "id": "mfkg6cOzfa5v"
      },
      "source": [
        "### Time taken by 10MB text file"
      ]
    },
    {
      "cell_type": "code",
      "execution_count": 75,
      "metadata": {
        "colab": {
          "base_uri": "https://localhost:8080/"
        },
        "id": "K09SAkybfun4",
        "outputId": "9bd06481-fae1-4bdc-f7f8-a749e8b1037d"
      },
      "outputs": [
        {
          "output_type": "stream",
          "name": "stdout",
          "text": [
            "Encryption complete. Output saved to /content/drive/MyDrive/10MBEncryptedTextDES.txt.\n",
            "Decryption complete. Output saved to /content/drive/MyDrive/Decrypted/10MBDecryptedTextDES.txt.\n",
            "Time spent: 5.13945903000058 seconds\n"
          ]
        }
      ],
      "source": [
        "start_time = time.perf_counter()\n",
        "input_file = '/content/drive/MyDrive/FilesForEncryption/TextFiles/10MB.txt'\n",
        "output_file = f'/content/drive/MyDrive/10MBEncryptedTextDES.txt'\n",
        "decrypt_file_path=f'/content/drive/MyDrive/Decrypted/10MBDecryptedTextDES.txt'\n",
        "\n",
        "\n",
        "key = generate_key()\n",
        "\n",
        "encrypt_file(input_file, output_file, key)\n",
        "decrypt_file(output_file,decrypt_file_path,key)\n",
        "\n",
        "\n",
        "print(f'Encryption complete. Output saved to {output_file}.')\n",
        "print(f'Decryption complete. Output saved to {decrypt_file_path}.')\n",
        "\n",
        "end_time = time.perf_counter()\n",
        "\n",
        "time_spent = end_time - start_time\n",
        "print(f\"Time spent: {time_spent} seconds\")\n"
      ]
    },
    {
      "cell_type": "markdown",
      "metadata": {
        "id": "iyrtdaY_lTBa"
      },
      "source": [
        "### Time taken by 50MB text file"
      ]
    },
    {
      "cell_type": "code",
      "execution_count": 76,
      "metadata": {
        "colab": {
          "base_uri": "https://localhost:8080/"
        },
        "id": "sDlOumCsmOAj",
        "outputId": "8b974882-d5e2-4d6c-ca1b-7a50f0378077"
      },
      "outputs": [
        {
          "output_type": "stream",
          "name": "stdout",
          "text": [
            "Encryption complete. Output saved to /content/drive/MyDrive/50MBEncryptedTextDES.txt.\n",
            "Decryption complete. Output saved to /content/drive/MyDrive/Decrypted/50MBDecryptedTextDES.txt.\n",
            "Time spent: 33.26952064800025 seconds\n"
          ]
        }
      ],
      "source": [
        "start_time = time.perf_counter()\n",
        "\n",
        "input_file = '/content/drive/MyDrive/FilesForEncryption/TextFiles/50MB.txt'\n",
        "output_file = f'/content/drive/MyDrive/50MBEncryptedTextDES.txt'\n",
        "decrypt_file_path=f'/content/drive/MyDrive/Decrypted/50MBDecryptedTextDES.txt'\n",
        "\n",
        "key = generate_key()\n",
        "\n",
        "\n",
        "encrypt_file(input_file, output_file, key)\n",
        "decrypt_file(output_file,decrypt_file_path,key)\n",
        "\n",
        "print(f'Encryption complete. Output saved to {output_file}.')\n",
        "print(f'Decryption complete. Output saved to {decrypt_file_path}.')\n",
        "\n",
        "end_time = time.perf_counter()\n",
        "\n",
        "time_spent = end_time - start_time\n",
        "print(f\"Time spent: {time_spent} seconds\")\n"
      ]
    },
    {
      "cell_type": "markdown",
      "metadata": {
        "id": "KmLZItFjvFSk"
      },
      "source": [
        "## DES for .exe files (1MB, 10MB and 50MB)"
      ]
    },
    {
      "cell_type": "markdown",
      "metadata": {
        "id": "Pokb4pGyvLoy"
      },
      "source": [
        "### DES for 1MB Exe file"
      ]
    },
    {
      "cell_type": "code",
      "execution_count": 77,
      "metadata": {
        "colab": {
          "base_uri": "https://localhost:8080/"
        },
        "id": "sh6NRzVrvXRd",
        "outputId": "bb1250dc-c6b4-494b-f897-96f7156a891d"
      },
      "outputs": [
        {
          "output_type": "stream",
          "name": "stdout",
          "text": [
            "Encryption complete. Output saved to /content/drive/MyDrive/50MBEncryptedExeDES.exe.\n",
            "Decryption complete. Output saved to /content/drive/MyDrive/Decrypted/1MBDecryptedExeDES.exe.\n",
            "Time spent: 3.899444702999972 seconds\n"
          ]
        }
      ],
      "source": [
        "start_time = time.perf_counter()\n",
        "input_file = '/content/drive/MyDrive/FilesForEncryption/ExeFiles/50MB.exe'\n",
        "output_file = f'/content/drive/MyDrive/50MBEncryptedExeDES.exe'\n",
        "decrypt_file_path=f'/content/drive/MyDrive/Decrypted/1MBDecryptedExeDES.exe'\n",
        "\n",
        "key = generate_key()\n",
        "\n",
        "\n",
        "encrypt_file(input_file, output_file, key)\n",
        "decrypt_file(output_file, decrypt_file_path, key)\n",
        "\n",
        "print(f'Encryption complete. Output saved to {output_file}.')\n",
        "print(f'Decryption complete. Output saved to {decrypt_file_path}.')\n",
        "\n",
        "end_time = time.perf_counter()\n",
        "\n",
        "time_spent = end_time - start_time\n",
        "print(f\"Time spent: {time_spent} seconds\")\n"
      ]
    },
    {
      "cell_type": "markdown",
      "metadata": {
        "id": "YlTkaBq_vP_R"
      },
      "source": [
        "### DES for 10MB Exe file"
      ]
    },
    {
      "cell_type": "code",
      "execution_count": 78,
      "metadata": {
        "colab": {
          "base_uri": "https://localhost:8080/"
        },
        "id": "0lbuTs2Dw_HU",
        "outputId": "a88cea11-8afa-4a96-f37c-683e1282af97"
      },
      "outputs": [
        {
          "output_type": "stream",
          "name": "stdout",
          "text": [
            "Encryption complete. Output saved to /content/drive/MyDrive/10MBEncryptedExeDES.exe.\n",
            "Decryption complete. Output saved to /content/drive/MyDrive/Decrypted/10MBDecryptedExeDES.exe.\n",
            "Time spent: 0.5558436009996512 seconds\n"
          ]
        }
      ],
      "source": [
        "start_time = time.perf_counter()\n",
        "input_file = '/content/drive/MyDrive/FilesForEncryption/ExeFiles/10MB.exe'\n",
        "output_file = f'/content/drive/MyDrive/10MBEncryptedExeDES.exe'\n",
        "decrypt_file_path=f'/content/drive/MyDrive/Decrypted/10MBDecryptedExeDES.exe'\n",
        "\n",
        "key = generate_key()\n",
        "\n",
        "encrypt_file(input_file, output_file, key)\n",
        "decrypt_file(output_file, decrypt_file_path, key)\n",
        "\n",
        "print(f'Encryption complete. Output saved to {output_file}.')\n",
        "print(f'Decryption complete. Output saved to {decrypt_file_path}.')\n",
        "\n",
        "end_time = time.perf_counter()\n",
        "\n",
        "time_spent = end_time - start_time\n",
        "print(f\"Time spent: {time_spent} seconds\")\n"
      ]
    },
    {
      "cell_type": "markdown",
      "metadata": {
        "id": "0N9Lo3AnvSK1"
      },
      "source": [
        "### DES for 50MB Exe File"
      ]
    },
    {
      "cell_type": "code",
      "execution_count": 79,
      "metadata": {
        "colab": {
          "base_uri": "https://localhost:8080/"
        },
        "id": "i1rrcULcxQMe",
        "outputId": "21d00a35-2b85-4bad-f3c2-ef3cc65d6a9a"
      },
      "outputs": [
        {
          "output_type": "stream",
          "name": "stdout",
          "text": [
            "Encryption complete. Output saved to /content/drive/MyDrive/50MBEncryptedExeDES.exe.\n",
            "Decryption complete. Output saved to /content/drive/MyDrive/Decrypted/50MBDecryptedExeDES.exe.\n",
            "Time spent: 2.0471452649999264 seconds\n"
          ]
        }
      ],
      "source": [
        "start_time = time.perf_counter()\n",
        "input_file = '/content/drive/MyDrive/FilesForEncryption/ExeFiles/50MB.exe'\n",
        "output_file = f'/content/drive/MyDrive/50MBEncryptedExeDES.exe'\n",
        "decrypt_file_path=f'/content/drive/MyDrive/Decrypted/50MBDecryptedExeDES.exe'\n",
        "\n",
        "key = generate_key()\n",
        "\n",
        "encrypt_file(input_file, output_file, key)\n",
        "decrypt_file(output_file, decrypt_file_path, key)\n",
        "\n",
        "print(f'Encryption complete. Output saved to {output_file}.')\n",
        "print(f'Decryption complete. Output saved to {decrypt_file_path}.')\n",
        "\n",
        "end_time = time.perf_counter()\n",
        "\n",
        "time_spent = end_time - start_time\n",
        "print(f\"Time spent: {time_spent} seconds\")\n"
      ]
    },
    {
      "cell_type": "markdown",
      "metadata": {
        "id": "sEh3myVVyYcg"
      },
      "source": [
        "## DES for .zip files (1MB, 10MB and 50MB)"
      ]
    },
    {
      "cell_type": "markdown",
      "metadata": {
        "id": "EcUhBKtHydm8"
      },
      "source": [
        "### DES for 1MB Zip File"
      ]
    },
    {
      "cell_type": "code",
      "execution_count": 80,
      "metadata": {
        "colab": {
          "base_uri": "https://localhost:8080/"
        },
        "id": "zGrrGY7-yl21",
        "outputId": "39ea106d-6c35-433f-ca97-431a4799d2d1"
      },
      "outputs": [
        {
          "output_type": "stream",
          "name": "stdout",
          "text": [
            "Encryption complete. Output saved to /content/drive/MyDrive/1MBEncryptedZipDES.zip.\n",
            "Decryption complete. Output saved to /content/drive/MyDrive/Decrypted/1MBDecryptedZipDES.zip.\n",
            "Time spent: 0.07019324999964738 seconds\n"
          ]
        }
      ],
      "source": [
        "start_time = time.perf_counter()\n",
        "input_file = '/content/drive/MyDrive/FilesForEncryption/ZipFiles/1MB.zip'\n",
        "output_file = f'/content/drive/MyDrive/1MBEncryptedZipDES.zip'\n",
        "decrypt_file_path=f'/content/drive/MyDrive/Decrypted/1MBDecryptedZipDES.zip'\n",
        "\n",
        "key = generate_key()\n",
        "\n",
        "encrypt_file(input_file, output_file, key)\n",
        "decrypt_file(output_file, decrypt_file_path, key)\n",
        "\n",
        "print(f'Encryption complete. Output saved to {output_file}.')\n",
        "print(f'Decryption complete. Output saved to {decrypt_file_path}.')\n",
        "\n",
        "end_time = time.perf_counter()\n",
        "\n",
        "time_spent = end_time - start_time\n",
        "print(f\"Time spent: {time_spent} seconds\")\n"
      ]
    },
    {
      "cell_type": "markdown",
      "metadata": {
        "id": "KftmOo1myguw"
      },
      "source": [
        "### DES for 10MB Zip File"
      ]
    },
    {
      "cell_type": "code",
      "execution_count": 81,
      "metadata": {
        "colab": {
          "base_uri": "https://localhost:8080/"
        },
        "id": "q8uKY4uryxUP",
        "outputId": "e1154e3a-f667-47aa-be1a-1028e37e47f7"
      },
      "outputs": [
        {
          "output_type": "stream",
          "name": "stdout",
          "text": [
            "Encryption complete. Output saved to /content/drive/MyDrive/10MBEncryptedZipDES.zip.\n",
            "Decryption complete. Output saved to /content/drive/MyDrive/Decrypted/1MBDecryptedZipDES.zip.\n",
            "Time spent: 0.47955990199989174 seconds\n"
          ]
        }
      ],
      "source": [
        "start_time = time.perf_counter()\n",
        "input_file = '/content/drive/MyDrive/FilesForEncryption/ZipFiles/10MB.zip'\n",
        "output_file = f'/content/drive/MyDrive/10MBEncryptedZipDES.zip'\n",
        "decrypt_file_path=f'/content/drive/MyDrive/Decrypted/1MBDecryptedZipDES.zip'\n",
        "\n",
        "key = generate_key()\n",
        "\n",
        "encrypt_file(input_file, output_file, key)\n",
        "decrypt_file(output_file, decrypt_file_path, key)\n",
        "\n",
        "print(f'Encryption complete. Output saved to {output_file}.')\n",
        "print(f'Decryption complete. Output saved to {decrypt_file_path}.')\n",
        "\n",
        "end_time = time.perf_counter()\n",
        "\n",
        "time_spent = end_time - start_time\n",
        "print(f\"Time spent: {time_spent} seconds\")\n"
      ]
    },
    {
      "cell_type": "markdown",
      "metadata": {
        "id": "vpTIFh7byiay"
      },
      "source": [
        "### DES for 50MB Zip File"
      ]
    },
    {
      "cell_type": "code",
      "execution_count": 82,
      "metadata": {
        "colab": {
          "base_uri": "https://localhost:8080/"
        },
        "id": "wJvmkmgjy2GQ",
        "outputId": "70bea767-aae0-4263-bcd6-7f2c6a8bdd55"
      },
      "outputs": [
        {
          "output_type": "stream",
          "name": "stdout",
          "text": [
            "Encryption complete. Output saved to /content/drive/MyDrive/50MBEncryptedZipDES.zip.\n",
            "Decryption complete. Output saved to /content/drive/MyDrive/Decrypted/50MBDecryptedZipDES.zip.\n",
            "Time spent: 2.885416791999887 seconds\n"
          ]
        }
      ],
      "source": [
        "start_time = time.perf_counter()\n",
        "input_file = '/content/drive/MyDrive/FilesForEncryption/ZipFiles/50MB.zip'\n",
        "output_file = f'/content/drive/MyDrive/50MBEncryptedZipDES.zip'\n",
        "decrypt_file_path=f'/content/drive/MyDrive/Decrypted/50MBDecryptedZipDES.zip'\n",
        "\n",
        "\n",
        "key = generate_key()\n",
        "\n",
        "encrypt_file(input_file, output_file, key)\n",
        "decrypt_file( output_file,decrypt_file_path, key)\n",
        "\n",
        "print(f'Encryption complete. Output saved to {output_file}.')\n",
        "print(f'Decryption complete. Output saved to {decrypt_file_path}.')\n",
        "\n",
        "end_time = time.perf_counter()\n",
        "\n",
        "time_spent = end_time - start_time\n",
        "print(f\"Time spent: {time_spent} seconds\")\n"
      ]
    },
    {
      "cell_type": "markdown",
      "metadata": {
        "id": "vnInzkzCzoPX"
      },
      "source": [
        "# AES for .txt, .exe and .rar files"
      ]
    },
    {
      "cell_type": "code",
      "execution_count": 83,
      "metadata": {
        "id": "AIpUPX9SzqAu"
      },
      "outputs": [],
      "source": [
        "from Crypto.Cipher import AES\n",
        "from Crypto.Random import get_random_bytes\n",
        "import os\n",
        "import time\n",
        "\n",
        "def pad_AES(text):\n",
        "    while len(text) % 16 != 0:\n",
        "        text += b' '\n",
        "    return text\n",
        "\n",
        "def encrypt_file_AES(input_file, output_file, key):\n",
        "    cipher = AES.new(key, AES.MODE_ECB)\n",
        "\n",
        "    with open(input_file, 'rb') as f_in:\n",
        "        plaintext = f_in.read()\n",
        "        padded_plaintext = pad(plaintext)\n",
        "        ciphertext = cipher.encrypt(padded_plaintext)\n",
        "\n",
        "    with open(output_file, 'wb') as f_out:\n",
        "        f_out.write(ciphertext)\n",
        "\n",
        "\n",
        "def decrypt_file_AES(input_file, output_file, key):\n",
        "    cipher = AES.new(key, AES.MODE_ECB)\n",
        "\n",
        "    with open(input_file, 'rb') as f_in:\n",
        "        ciphertext = f_in.read()\n",
        "        decrypted_data = cipher.decrypt(ciphertext)\n",
        "\n",
        "    decrypted_data = decrypted_data.rstrip(b' ')\n",
        "\n",
        "    with open(output_file, 'wb') as f_out:\n",
        "        f_out.write(decrypted_data)\n",
        "\n",
        "def generate_key_AES():\n",
        "    return get_random_bytes(16)  # For AES-128, use 16 bytes\n",
        "\n",
        "\n"
      ]
    },
    {
      "cell_type": "markdown",
      "metadata": {
        "id": "LPXz7QGo0Lmw"
      },
      "source": [
        "## AES for .txt files (1MB, 10MB and 50MB)\n",
        "### Time taken by 1MB text file"
      ]
    },
    {
      "cell_type": "code",
      "execution_count": 84,
      "metadata": {
        "colab": {
          "base_uri": "https://localhost:8080/"
        },
        "id": "V4nOtf-c0VSa",
        "outputId": "7f5ba456-b74f-493f-fe30-71eeccd07984"
      },
      "outputs": [
        {
          "output_type": "stream",
          "name": "stdout",
          "text": [
            "Encryption complete. Output saved to /content/drive/MyDrive/1MBEncryptedTxtAES.txt.\n",
            "Decryption complete. Output saved to /content/drive/MyDrive/Decrypted/1MBDecryptedTxtAES.txt.\n",
            "Time spent: 0.16342099899975437 seconds\n"
          ]
        }
      ],
      "source": [
        "start_time = time.perf_counter()\n",
        "\n",
        "input_file = '/content/drive/MyDrive/FilesForEncryption/TextFiles/1MB.txt'\n",
        "output_file = f'/content/drive/MyDrive/1MBEncryptedTxtAES.txt'\n",
        "decrypt_file_path=f'/content/drive/MyDrive/Decrypted/1MBDecryptedTxtAES.txt'\n",
        "\n",
        "key = generate_key_AES()\n",
        "\n",
        "encrypt_file_AES(input_file, output_file, key)\n",
        "decrypt_file_AES(output_file, decrypt_file_path, key)\n",
        "\n",
        "print(f'Encryption complete. Output saved to {output_file}.')\n",
        "print(f'Decryption complete. Output saved to {decrypt_file_path}.')\n",
        "\n",
        "end_time = time.perf_counter()\n",
        "\n",
        "time_spent = end_time - start_time\n",
        "print(f\"Time spent: {time_spent} seconds\")\n"
      ]
    },
    {
      "cell_type": "markdown",
      "metadata": {
        "id": "vgHsYQyY0ud2"
      },
      "source": [
        "## Time taken by 10MB text file"
      ]
    },
    {
      "cell_type": "code",
      "execution_count": 85,
      "metadata": {
        "colab": {
          "base_uri": "https://localhost:8080/"
        },
        "id": "G28X6grv0wNs",
        "outputId": "0725cca3-3745-47f6-f9d2-54f35978de49"
      },
      "outputs": [
        {
          "output_type": "stream",
          "name": "stdout",
          "text": [
            "Encryption complete. Output saved to /content/drive/MyDrive/10MBEncryptedTxtAES.txt.\n",
            "Decryption complete. Output saved to /content/drive/MyDrive/Decrypted/10MBDecryptedTxtAES.txt.\n",
            "Time spent: 2.093360515000313 seconds\n"
          ]
        }
      ],
      "source": [
        "start_time = time.perf_counter()\n",
        "input_file = '/content/drive/MyDrive/FilesForEncryption/TextFiles/10MB.txt'\n",
        "output_file = f'/content/drive/MyDrive/10MBEncryptedTxtAES.txt'\n",
        "decrypt_file_path=f'/content/drive/MyDrive/Decrypted/10MBDecryptedTxtAES.txt'\n",
        "\n",
        "key = generate_key_AES()\n",
        "\n",
        "encrypt_file_AES(input_file, output_file, key)\n",
        "decrypt_file_AES(output_file, decrypt_file_path, key)\n",
        "\n",
        "print(f'Encryption complete. Output saved to {output_file}.')\n",
        "print(f'Decryption complete. Output saved to {decrypt_file_path}.')\n",
        "\n",
        "end_time = time.perf_counter()\n",
        "\n",
        "time_spent = end_time - start_time\n",
        "print(f\"Time spent: {time_spent} seconds\")\n"
      ]
    },
    {
      "cell_type": "markdown",
      "metadata": {
        "id": "uvk0yMAB03cX"
      },
      "source": [
        "## Time taken by 50MB text file"
      ]
    },
    {
      "cell_type": "code",
      "execution_count": 86,
      "metadata": {
        "colab": {
          "base_uri": "https://localhost:8080/"
        },
        "id": "CdS6Vqd_05T_",
        "outputId": "8eb64caa-53e6-45c2-ca4e-0a44210ee6c7"
      },
      "outputs": [
        {
          "output_type": "stream",
          "name": "stdout",
          "text": [
            "Encryption complete. Output saved to /content/drive/MyDrive/50MBEncryptedTxtAES.txt.\n",
            "Decryption complete. Output saved to /content/drive/MyDrive/Decrypted/50MBDecryptedTxtAES.txt.\n",
            "Time spent: 15.429331012999683 seconds\n"
          ]
        }
      ],
      "source": [
        "start_time = time.perf_counter()\n",
        "input_file = '/content/drive/MyDrive/FilesForEncryption/TextFiles/50MB.txt'\n",
        "output_file = f'/content/drive/MyDrive/50MBEncryptedTxtAES.txt'\n",
        "decrypt_file_path=f'/content/drive/MyDrive/Decrypted/50MBDecryptedTxtAES.txt'\n",
        "\n",
        "key = generate_key_AES()\n",
        "\n",
        "encrypt_file_AES(input_file, output_file, key)\n",
        "decrypt_file_AES(output_file, decrypt_file_path, key)\n",
        "\n",
        "\n",
        "print(f'Encryption complete. Output saved to {output_file}.')\n",
        "print(f'Decryption complete. Output saved to {decrypt_file_path}.')\n",
        "\n",
        "end_time = time.perf_counter()\n",
        "\n",
        "time_spent = end_time - start_time\n",
        "print(f\"Time spent: {time_spent} seconds\")\n"
      ]
    },
    {
      "cell_type": "markdown",
      "metadata": {
        "id": "bsf888wZ1Rwo"
      },
      "source": [
        "## AES for .zip files (1MB, 10MB and 50MB)\n",
        "### Time taken by 1MB zip file"
      ]
    },
    {
      "cell_type": "code",
      "execution_count": 87,
      "metadata": {
        "colab": {
          "base_uri": "https://localhost:8080/"
        },
        "id": "ayPzqO0i1cqa",
        "outputId": "8c2426f6-8af8-47a1-b94e-58ea862e21e2"
      },
      "outputs": [
        {
          "output_type": "stream",
          "name": "stdout",
          "text": [
            "Encryption complete. Output saved to /content/drive/MyDrive/1MBEncryptedZipAES.zip.\n",
            "Decryption complete. Output saved to /content/drive/MyDrive/Decrypted/1MBDecryptedZipAES.zip.\n",
            "Time spent: 0.04445512399979634 seconds\n"
          ]
        }
      ],
      "source": [
        "start_time = time.perf_counter()\n",
        "input_file = '/content/drive/MyDrive/FilesForEncryption/ZipFiles/1MB.zip'\n",
        "output_file = f'/content/drive/MyDrive/1MBEncryptedZipAES.zip'\n",
        "decrypt_file_path=f'/content/drive/MyDrive/Decrypted/1MBDecryptedZipAES.zip'\n",
        "\n",
        "key = generate_key_AES()\n",
        "\n",
        "encrypt_file_AES(input_file, output_file, key)\n",
        "decrypt_file_AES(output_file, decrypt_file_path, key)\n",
        "\n",
        "\n",
        "print(f'Encryption complete. Output saved to {output_file}.')\n",
        "print(f'Decryption complete. Output saved to {decrypt_file_path}.')\n",
        "\n",
        "end_time = time.perf_counter()\n",
        "\n",
        "time_spent = end_time - start_time\n",
        "print(f\"Time spent: {time_spent} seconds\")\n"
      ]
    },
    {
      "cell_type": "markdown",
      "metadata": {
        "id": "qU0_aO411Sjx"
      },
      "source": [
        "### Time taken by 10MB zip file"
      ]
    },
    {
      "cell_type": "code",
      "execution_count": 88,
      "metadata": {
        "colab": {
          "base_uri": "https://localhost:8080/"
        },
        "id": "bL4jZ0k_1oBn",
        "outputId": "3c9b90ff-9a15-4338-f2ab-48c1cb4799e0"
      },
      "outputs": [
        {
          "output_type": "stream",
          "name": "stdout",
          "text": [
            "Encryption complete. Output saved to /content/drive/MyDrive/10MBEncryptedZipAES.zip.\n",
            "Decryption complete. Output saved to /content/drive/MyDrive/Decrypted/10MBDecryptedZipAES.zip.\n",
            "Time spent: 0.1486570090000896 seconds\n"
          ]
        }
      ],
      "source": [
        "start_time = time.perf_counter()\n",
        "input_file = '/content/drive/MyDrive/FilesForEncryption/ZipFiles/10MB.zip'\n",
        "output_file = f'/content/drive/MyDrive/10MBEncryptedZipAES.zip'\n",
        "decrypt_file_path=f'/content/drive/MyDrive/Decrypted/10MBDecryptedZipAES.zip'\n",
        "\n",
        "key = generate_key_AES()\n",
        "\n",
        "encrypt_file_AES(input_file, output_file, key)\n",
        "decrypt_file_AES(output_file, decrypt_file_path, key)\n",
        "\n",
        "\n",
        "print(f'Encryption complete. Output saved to {output_file}.')\n",
        "print(f'Decryption complete. Output saved to {decrypt_file_path}.')\n",
        "\n",
        "end_time = time.perf_counter()\n",
        "\n",
        "time_spent = end_time - start_time\n",
        "print(f\"Time spent: {time_spent} seconds\")\n"
      ]
    },
    {
      "cell_type": "markdown",
      "metadata": {
        "id": "yGJ1Gey91ZYG"
      },
      "source": [
        "### Time taken by 50MB zip file"
      ]
    },
    {
      "cell_type": "code",
      "execution_count": 89,
      "metadata": {
        "colab": {
          "base_uri": "https://localhost:8080/"
        },
        "id": "8sqaA0s91uEH",
        "outputId": "39c1bce1-c1e8-4066-a695-b09c923626f7"
      },
      "outputs": [
        {
          "output_type": "stream",
          "name": "stdout",
          "text": [
            "Encryption complete. Output saved to /content/drive/MyDrive/50MBEncryptedZipAES.zip.\n",
            "Decryption complete. Output saved to /content/drive/MyDrive/Decrypted/50MBDecryptedZipAES.zip.\n",
            "Time spent: 1.750436979999904 seconds\n"
          ]
        }
      ],
      "source": [
        "start_time = time.perf_counter()\n",
        "input_file = '/content/drive/MyDrive/FilesForEncryption/ZipFiles/50MB.zip'\n",
        "output_file = f'/content/drive/MyDrive/50MBEncryptedZipAES.zip'\n",
        "decrypt_file_path=f'/content/drive/MyDrive/Decrypted/50MBDecryptedZipAES.zip'\n",
        "\n",
        "key = generate_key_AES()\n",
        "\n",
        "encrypt_file_AES(input_file, output_file, key)\n",
        "decrypt_file_AES(output_file, decrypt_file_path, key)\n",
        "\n",
        "\n",
        "print(f'Encryption complete. Output saved to {output_file}.')\n",
        "print(f'Decryption complete. Output saved to {decrypt_file_path}.')\n",
        "\n",
        "end_time = time.perf_counter()\n",
        "\n",
        "time_spent = end_time - start_time\n",
        "print(f\"Time spent: {time_spent} seconds\")\n"
      ]
    },
    {
      "cell_type": "markdown",
      "metadata": {
        "id": "goPNZz_I37hP"
      },
      "source": [
        "## AES for .exe files (1MB, 10MB and 50MB)\n",
        "### Time taken by 1MB exe file"
      ]
    },
    {
      "cell_type": "code",
      "execution_count": 90,
      "metadata": {
        "colab": {
          "base_uri": "https://localhost:8080/"
        },
        "id": "BRg1JRYo4C-q",
        "outputId": "1dec7486-298b-4e36-dc20-8df81b94f8b1"
      },
      "outputs": [
        {
          "output_type": "stream",
          "name": "stdout",
          "text": [
            "Encryption complete. Output saved to /content/drive/MyDrive/1MBEncryptedExeAES.exe.\n",
            "Decryption complete. Output saved to /content/drive/MyDrive/Decrypted/1MBDecryptedExeAES.exe.\n",
            "Time spent: 0.09105535199978476 seconds\n"
          ]
        }
      ],
      "source": [
        "start_time = time.perf_counter()\n",
        "input_file = '/content/drive/MyDrive/FilesForEncryption/ExeFiles/1MB.exe'\n",
        "output_file = f'/content/drive/MyDrive/1MBEncryptedExeAES.exe'\n",
        "decrypt_file_path=f'/content/drive/MyDrive/Decrypted/1MBDecryptedExeAES.exe'\n",
        "\n",
        "key = generate_key_AES()\n",
        "\n",
        "encrypt_file_AES(input_file, output_file, key)\n",
        "decrypt_file_AES(output_file, decrypt_file_path, key)\n",
        "\n",
        "\n",
        "print(f'Encryption complete. Output saved to {output_file}.')\n",
        "print(f'Decryption complete. Output saved to {decrypt_file_path}.')\n",
        "\n",
        "end_time = time.perf_counter()\n",
        "\n",
        "time_spent = end_time - start_time\n",
        "print(f\"Time spent: {time_spent} seconds\")\n"
      ]
    },
    {
      "cell_type": "markdown",
      "metadata": {
        "id": "IBaL0Rad3-cG"
      },
      "source": [
        "### Time taken by 10MB exe file"
      ]
    },
    {
      "cell_type": "code",
      "execution_count": 91,
      "metadata": {
        "colab": {
          "base_uri": "https://localhost:8080/"
        },
        "id": "tsuW4F984X1S",
        "outputId": "15a0e218-7d95-4ee7-e261-f39d689ee3ad"
      },
      "outputs": [
        {
          "output_type": "stream",
          "name": "stdout",
          "text": [
            "Encryption complete. Output saved to /content/drive/MyDrive/10MBEncryptedExeAES.exe.\n",
            "Decryption complete. Output saved to /content/drive/MyDrive/Decrypted/10MBDecryptedExeAES.exe.\n",
            "Time spent: 0.395200935999128 seconds\n"
          ]
        }
      ],
      "source": [
        "start_time = time.perf_counter()\n",
        "\n",
        "input_file = '/content/drive/MyDrive/FilesForEncryption/ExeFiles/10MB.exe'\n",
        "output_file = f'/content/drive/MyDrive/10MBEncryptedExeAES.exe'\n",
        "decrypt_file_path=f'/content/drive/MyDrive/Decrypted/10MBDecryptedExeAES.exe'\n",
        "\n",
        "key = generate_key_AES()\n",
        "\n",
        "encrypt_file_AES(input_file, output_file, key)\n",
        "decrypt_file_AES(output_file, decrypt_file_path, key)\n",
        "\n",
        "\n",
        "print(f'Encryption complete. Output saved to {output_file}.')\n",
        "print(f'Decryption complete. Output saved to {decrypt_file_path}.')\n",
        "\n",
        "end_time = time.perf_counter()\n",
        "\n",
        "time_spent = end_time - start_time\n",
        "print(f\"Time spent: {time_spent} seconds\")\n"
      ]
    },
    {
      "cell_type": "markdown",
      "metadata": {
        "id": "mYOtf7X23_qE"
      },
      "source": [
        "### Time taken by 50MB exe file"
      ]
    },
    {
      "cell_type": "code",
      "execution_count": 92,
      "metadata": {
        "colab": {
          "base_uri": "https://localhost:8080/"
        },
        "id": "ZhlVSXgF4fJk",
        "outputId": "6a48c10d-3ed7-434b-aff9-b0d04e945887"
      },
      "outputs": [
        {
          "output_type": "stream",
          "name": "stdout",
          "text": [
            "Encryption complete. Output saved to /content/drive/MyDrive/50MBEncryptedExeAES.exe.\n",
            "Decryption complete. Output saved to /content/drive/MyDrive/Decrypted/50MBDecryptedExeAES.exe.\n",
            "Time spent: 1.5026926880000246 seconds\n"
          ]
        }
      ],
      "source": [
        "start_time = time.perf_counter()\n",
        "input_file = '/content/drive/MyDrive/FilesForEncryption/ExeFiles/50MB.exe'\n",
        "output_file = f'/content/drive/MyDrive/50MBEncryptedExeAES.exe'\n",
        "decrypt_file_path=f'/content/drive/MyDrive/Decrypted/50MBDecryptedExeAES.exe'\n",
        "\n",
        "key = generate_key_AES()\n",
        "\n",
        "encrypt_file_AES(input_file, output_file, key)\n",
        "decrypt_file_AES(output_file, decrypt_file_path, key)\n",
        "\n",
        "\n",
        "print(f'Encryption complete. Output saved to {output_file}.')\n",
        "print(f'Decryption complete. Output saved to {decrypt_file_path}.')\n",
        "\n",
        "end_time = time.perf_counter()\n",
        "\n",
        "time_spent = end_time - start_time\n",
        "print(f\"Time spent: {time_spent} seconds\")\n"
      ]
    },
    {
      "cell_type": "markdown",
      "metadata": {
        "id": "lGZbN-dF5J2g"
      },
      "source": [
        "# RSA for .txt, .exe and .rar files"
      ]
    },
    {
      "cell_type": "code",
      "execution_count": 93,
      "metadata": {
        "id": "ieipeTe-5fUw"
      },
      "outputs": [],
      "source": [
        "from Crypto.PublicKey import RSA\n",
        "from Crypto.Cipher import PKCS1_OAEP\n",
        "\n",
        "def generate_key_pair():\n",
        "    key = RSA.generate(2048)\n",
        "    return key\n",
        "\n",
        "def export_public_key(key, file_path):\n",
        "    public_key = key.publickey().export_key()\n",
        "    with open(file_path, \"wb\") as file:\n",
        "        file.write(public_key)\n",
        "\n",
        "def import_public_key(file_path):\n",
        "    with open(file_path, \"rb\") as file:\n",
        "        public_key = RSA.import_key(file.read())\n",
        "    return public_key\n",
        "\n",
        "def encrypt_file_rsa(public_key, data, output_file):\n",
        "    print(\"type of data get:\", type(data))\n",
        "    message = data\n",
        "\n",
        "    cipher_rsa = PKCS1_OAEP.new(public_key)\n",
        "    encrypted_message = cipher_rsa.encrypt(message)\n",
        "\n",
        "    with open(output_file, \"wb\") as file:\n",
        "        file.write(encrypted_message)\n",
        "\n",
        "key_pair = generate_key_pair()\n",
        "\n",
        "export_public_key(key_pair, \"/content/drive/MyDrive/publicKey.pem\")\n",
        "\n",
        "public_key = import_public_key(\"/content/drive/MyDrive/publicKey.pem\")\n",
        "\n"
      ]
    },
    {
      "cell_type": "markdown",
      "metadata": {
        "id": "HW3CM7YL6CdO"
      },
      "source": [
        "#RSA for .txt files (1MB, 10MB and 50MB)\n",
        "## Time taken by 1MB txt file"
      ]
    },
    {
      "cell_type": "code",
      "execution_count": 94,
      "metadata": {
        "colab": {
          "base_uri": "https://localhost:8080/"
        },
        "id": "8d36hS396J7u",
        "outputId": "412bdaa0-4d18-4839-d90c-e8ebdffdef29"
      },
      "outputs": [
        {
          "output_type": "stream",
          "name": "stdout",
          "text": [
            "type of data get: <class 'bytes'>\n",
            "Encryption complete. Output saved to /content/drive/MyDrive/1MBEncryptedTxtRSA.txt.\n",
            "Encryption complete. Output key saved to /content/drive/MyDrive/1MBEncryptedTxtRSAkey.txt.\n",
            "Time spent: 0.29497916900072596 seconds\n"
          ]
        }
      ],
      "source": [
        "start_time = time.perf_counter()\n",
        "with open('/content/drive/MyDrive/publicKey.pem', 'r') as file:\n",
        "    public_key = RSA.import_key(file.read())\n",
        "    # print(public_key)\n",
        "\n",
        "\n",
        "input_file = '/content/drive/MyDrive/FilesForEncryption/TextFiles/1MB.txt'\n",
        "output_file = f'/content/drive/MyDrive/1MBEncryptedTxtRSA.txt'\n",
        "output_file_key = f'/content/drive/MyDrive/1MBEncryptedTxtRSAkey.txt'\n",
        "key = generate_key_AES()\n",
        "\n",
        "stringKey = key.decode('latin-1')\n",
        "\n",
        "encrypt_file_AES(input_file, output_file, key)\n",
        "encrypt_file_rsa(public_key, key, output_file_key)\n",
        "\n",
        "print(f'Encryption complete. Output saved to {output_file}.')\n",
        "print(f'Encryption complete. Output key saved to {output_file_key}.')\n",
        "end_time = time.perf_counter()\n",
        "\n",
        "time_spent = end_time - start_time\n",
        "print(f\"Time spent: {time_spent} seconds\")\n"
      ]
    },
    {
      "cell_type": "markdown",
      "source": [
        "Time taken by 10MB txt file"
      ],
      "metadata": {
        "id": "R6iealJhKJyF"
      }
    },
    {
      "cell_type": "code",
      "source": [
        "start_time = time.perf_counter()\n",
        "with open('/content/drive/MyDrive/publicKey.pem', 'r') as file:\n",
        "    public_key = RSA.import_key(file.read())\n",
        "    print(public_key)\n",
        "\n",
        "\n",
        "input_file = '/content/drive/MyDrive/FilesForEncryption/TextFiles/10MB.txt'\n",
        "output_file = f'/content/drive/MyDrive/10MBEncryptedTxtRSA.txt'\n",
        "output_file_key = f'/content/drive/MyDrive/10MBEncryptedTxtRSAkey.txt'\n",
        "key = generate_key_AES()\n",
        "\n",
        "stringKey = key.decode('latin-1')\n",
        "\n",
        "encrypt_file_AES(input_file, output_file, key)\n",
        "encrypt_file_rsa(public_key, key, output_file_key)\n",
        "\n",
        "print(f'Encryption complete. Output saved to {output_file}.')\n",
        "print(f'Encryption complete. Output key saved to {output_file_key}.')\n",
        "end_time = time.perf_counter()\n",
        "\n",
        "time_spent = end_time - start_time\n",
        "print(f\"Time spent: {time_spent} seconds\")\n"
      ],
      "metadata": {
        "colab": {
          "base_uri": "https://localhost:8080/"
        },
        "id": "1EoWLESFKMM9",
        "outputId": "14ea8de0-8a8e-4ce1-f7c1-56482a654735"
      },
      "execution_count": 95,
      "outputs": [
        {
          "output_type": "stream",
          "name": "stdout",
          "text": [
            "Public RSA key at 0x78B87D955000\n",
            "type of data get: <class 'bytes'>\n",
            "Encryption complete. Output saved to /content/drive/MyDrive/10MBEncryptedTxtRSA.txt.\n",
            "Encryption complete. Output key saved to /content/drive/MyDrive/10MBEncryptedTxtRSAkey.txt.\n",
            "Time spent: 2.5753608810000514 seconds\n"
          ]
        }
      ]
    },
    {
      "cell_type": "markdown",
      "source": [
        "Time taken by 50MB txt file"
      ],
      "metadata": {
        "id": "aaJLBrzgKkkd"
      }
    },
    {
      "cell_type": "code",
      "source": [
        "start_time = time.perf_counter()\n",
        "with open('/content/drive/MyDrive/publicKey.pem', 'r') as file:\n",
        "    public_key = RSA.import_key(file.read())\n",
        "    print(public_key)\n",
        "\n",
        "\n",
        "input_file = '/content/drive/MyDrive/FilesForEncryption/TextFiles/50MB.txt'\n",
        "output_file = f'/content/drive/MyDrive/50MBEncryptedTxtRSA.txt'\n",
        "output_file_key = f'/content/drive/MyDrive/50MBEncryptedTxtRSAkey.txt'\n",
        "key = generate_key_AES()\n",
        "\n",
        "stringKey = key.decode('latin-1')\n",
        "\n",
        "encrypt_file_AES(input_file, output_file, key)\n",
        "encrypt_file_rsa(public_key, key, output_file_key)\n",
        "\n",
        "print(f'Encryption complete. Output saved to {output_file}.')\n",
        "print(f'Encryption complete. Output key saved to {output_file_key}.')\n",
        "end_time = time.perf_counter()\n",
        "\n",
        "time_spent = end_time - start_time\n",
        "print(f\"Time spent: {time_spent} seconds\")\n"
      ],
      "metadata": {
        "colab": {
          "base_uri": "https://localhost:8080/"
        },
        "id": "biaBoqplKm0b",
        "outputId": "10f428f2-475c-4bda-f417-12ef0bc8756d"
      },
      "execution_count": 96,
      "outputs": [
        {
          "output_type": "stream",
          "name": "stdout",
          "text": [
            "Public RSA key at 0x78B86738F850\n",
            "type of data get: <class 'bytes'>\n",
            "Encryption complete. Output saved to /content/drive/MyDrive/50MBEncryptedTxtRSA.txt.\n",
            "Encryption complete. Output key saved to /content/drive/MyDrive/50MBEncryptedTxtRSAkey.txt.\n",
            "Time spent: 6.333579180000015 seconds\n"
          ]
        }
      ]
    },
    {
      "cell_type": "markdown",
      "source": [
        "#RSA for .zip files (1MB, 10MB and 50MB)\n",
        "## Time taken by 1MB zip file"
      ],
      "metadata": {
        "id": "FzpNzFtfLYPC"
      }
    },
    {
      "cell_type": "code",
      "source": [
        "start_time = time.perf_counter()\n",
        "with open('/content/drive/MyDrive/publicKey.pem', 'r') as file:\n",
        "    public_key = RSA.import_key(file.read())\n",
        "    print(public_key)\n",
        "\n",
        "\n",
        "input_file = '/content/drive/MyDrive/FilesForEncryption/ZipFiles/1MB.zip'\n",
        "output_file = f'/content/drive/MyDrive/1MBEncryptedZipRSA.txt'\n",
        "output_file_key = f'/content/drive/MyDrive/1MBEncryptedZipRSAkey.txt'\n",
        "key = generate_key_AES()\n",
        "\n",
        "encrypt_file_AES(input_file, output_file, key)\n",
        "encrypt_file_rsa(public_key, key, output_file_key)\n",
        "\n",
        "print(f'Encryption complete. Output saved to {output_file}.')\n",
        "print(f'Encryption complete. Output key saved to {output_file_key}.')\n",
        "end_time = time.perf_counter()\n",
        "\n",
        "time_spent = end_time - start_time\n",
        "print(f\"Time spent: {time_spent} seconds\")\n"
      ],
      "metadata": {
        "colab": {
          "base_uri": "https://localhost:8080/"
        },
        "id": "7vNttc4aLbCF",
        "outputId": "c1771af0-d82f-4442-e469-0833f3d101c0"
      },
      "execution_count": 97,
      "outputs": [
        {
          "output_type": "stream",
          "name": "stdout",
          "text": [
            "Public RSA key at 0x78B86738EA10\n",
            "type of data get: <class 'bytes'>\n",
            "Encryption complete. Output saved to /content/drive/MyDrive/1MBEncryptedZipRSA.txt.\n",
            "Encryption complete. Output key saved to /content/drive/MyDrive/1MBEncryptedZipRSAkey.txt.\n",
            "Time spent: 0.052257104000091203 seconds\n"
          ]
        }
      ]
    },
    {
      "cell_type": "markdown",
      "source": [
        "## Time taken by 10MB zip file"
      ],
      "metadata": {
        "id": "43OqVvGQLxHO"
      }
    },
    {
      "cell_type": "code",
      "source": [
        "start_time = time.perf_counter()\n",
        "with open('/content/drive/MyDrive/publicKey.pem', 'r') as file:\n",
        "    public_key = RSA.import_key(file.read())\n",
        "    # print(public_key)\n",
        "\n",
        "\n",
        "input_file = '/content/drive/MyDrive/FilesForEncryption/ZipFiles/10MB.zip'\n",
        "output_file = f'/content/drive/MyDrive/10MBEncryptedZipRSA.txt'\n",
        "output_file_key = f'/content/drive/MyDrive/10MBEncryptedZipRSAkey.txt'\n",
        "key = generate_key_AES()\n",
        "\n",
        "encrypt_file_AES(input_file, output_file, key)\n",
        "encrypt_file_rsa(public_key, key, output_file_key)\n",
        "\n",
        "print(f'Encryption complete. Output saved to {output_file}.')\n",
        "print(f'Encryption complete. Output key saved to {output_file_key}.')\n",
        "end_time = time.perf_counter()\n",
        "\n",
        "time_spent = end_time - start_time\n",
        "print(f\"Time spent: {time_spent} seconds\")\n"
      ],
      "metadata": {
        "colab": {
          "base_uri": "https://localhost:8080/"
        },
        "id": "OlnTaMfWL0Mp",
        "outputId": "276f0324-9756-4eb5-ab5e-929a639a136a"
      },
      "execution_count": 98,
      "outputs": [
        {
          "output_type": "stream",
          "name": "stdout",
          "text": [
            "type of data get: <class 'bytes'>\n",
            "Encryption complete. Output saved to /content/drive/MyDrive/10MBEncryptedZipRSA.txt.\n",
            "Encryption complete. Output key saved to /content/drive/MyDrive/10MBEncryptedZipRSAkey.txt.\n",
            "Time spent: 0.14051656799983903 seconds\n"
          ]
        }
      ]
    },
    {
      "cell_type": "markdown",
      "source": [
        "## Time taken by 50MB zip file"
      ],
      "metadata": {
        "id": "JuTepFp7L6Nj"
      }
    },
    {
      "cell_type": "code",
      "source": [
        "start_time = time.perf_counter()\n",
        "with open('/content/drive/MyDrive/publicKey.pem', 'r') as file:\n",
        "    public_key = RSA.import_key(file.read())\n",
        "    # print(public_key)\n",
        "\n",
        "\n",
        "input_file = '/content/drive/MyDrive/FilesForEncryption/ZipFiles/50MB.zip'\n",
        "output_file = f'/content/drive/MyDrive/50MBEncryptedZipRSA.txt'\n",
        "output_file_key = f'/content/drive/MyDrive/50MBEncryptedZipRSAkey.txt'\n",
        "key = generate_key_AES()\n",
        "\n",
        "encrypt_file_AES(input_file, output_file, key)\n",
        "encrypt_file_rsa(public_key, key, output_file_key)\n",
        "\n",
        "print(f'Encryption complete. Output saved to {output_file}.')\n",
        "print(f'Encryption complete. Output key saved to {output_file_key}.')\n",
        "end_time = time.perf_counter()\n",
        "\n",
        "time_spent = end_time - start_time\n",
        "print(f\"Time spent: {time_spent} seconds\")\n"
      ],
      "metadata": {
        "colab": {
          "base_uri": "https://localhost:8080/"
        },
        "id": "j3ImMfM7L9RN",
        "outputId": "25db7915-03aa-450b-ae9a-32d09e846793"
      },
      "execution_count": 99,
      "outputs": [
        {
          "output_type": "stream",
          "name": "stdout",
          "text": [
            "type of data get: <class 'bytes'>\n",
            "Encryption complete. Output saved to /content/drive/MyDrive/50MBEncryptedZipRSA.txt.\n",
            "Encryption complete. Output key saved to /content/drive/MyDrive/50MBEncryptedZipRSAkey.txt.\n",
            "Time spent: 0.7896850639999684 seconds\n"
          ]
        }
      ]
    },
    {
      "cell_type": "markdown",
      "source": [
        "#RSA for .exe files (1MB, 10MB and 50MB)\n",
        "## Time taken by 1MB exe file"
      ],
      "metadata": {
        "id": "7O662osgMLt3"
      }
    },
    {
      "cell_type": "code",
      "source": [
        "start_time = time.perf_counter()\n",
        "with open('/content/drive/MyDrive/publicKey.pem', 'r') as file:\n",
        "    public_key = RSA.import_key(file.read())\n",
        "    # print(public_key)\n",
        "\n",
        "\n",
        "input_file = '/content/drive/MyDrive/FilesForEncryption/ExeFiles/1MB.exe'\n",
        "output_file = f'/content/drive/MyDrive/1MBEncryptedExeRSA.exe'\n",
        "output_file_key = f'/content/drive/MyDrive/1MBEncryptedExeRSAkey.txt'\n",
        "key = generate_key_AES()\n",
        "\n",
        "encrypt_file_AES(input_file, output_file, key)\n",
        "encrypt_file_rsa(public_key, key, output_file_key)\n",
        "\n",
        "print(f'Encryption complete. Output saved to {output_file}.')\n",
        "print(f'Encryption complete. Output key saved to {output_file_key}.')\n",
        "end_time = time.perf_counter()\n",
        "\n",
        "time_spent = end_time - start_time\n",
        "print(f\"Time spent: {time_spent} seconds\")\n"
      ],
      "metadata": {
        "colab": {
          "base_uri": "https://localhost:8080/"
        },
        "id": "lwVCiD1SMPca",
        "outputId": "4bbc8c0d-24c8-4292-f76f-161790ca4aad"
      },
      "execution_count": 100,
      "outputs": [
        {
          "output_type": "stream",
          "name": "stdout",
          "text": [
            "type of data get: <class 'bytes'>\n",
            "Encryption complete. Output saved to /content/drive/MyDrive/1MBEncryptedExeRSA.exe.\n",
            "Encryption complete. Output key saved to /content/drive/MyDrive/1MBEncryptedExeRSAkey.txt.\n",
            "Time spent: 0.06561561999933474 seconds\n"
          ]
        }
      ]
    },
    {
      "cell_type": "markdown",
      "source": [
        "## Time taken by 10MB exe file"
      ],
      "metadata": {
        "id": "kUrvWSfDMRqc"
      }
    },
    {
      "cell_type": "code",
      "source": [
        "start_time = time.perf_counter()\n",
        "with open('/content/drive/MyDrive/publicKey.pem', 'r') as file:\n",
        "    public_key = RSA.import_key(file.read())\n",
        "    # print(public_key)\n",
        "\n",
        "\n",
        "input_file = '/content/drive/MyDrive/FilesForEncryption/ExeFiles/10MB.exe'\n",
        "output_file = f'/content/drive/MyDrive/10MBEncryptedExeRSA.exe'\n",
        "output_file_key = f'/content/drive/MyDrive/10MBEncryptedExeRSAkey.txt'\n",
        "key = generate_key_AES()\n",
        "\n",
        "encrypt_file_AES(input_file, output_file, key)\n",
        "encrypt_file_rsa(public_key, key, output_file_key)\n",
        "\n",
        "print(f'Encryption complete. Output saved to {output_file}.')\n",
        "print(f'Encryption complete. Output key saved to {output_file_key}.')\n",
        "end_time = time.perf_counter()\n",
        "\n",
        "time_spent = end_time - start_time\n",
        "print(f\"Time spent: {time_spent} seconds\")\n"
      ],
      "metadata": {
        "colab": {
          "base_uri": "https://localhost:8080/"
        },
        "id": "_jlZi01fMTkO",
        "outputId": "8e4f56b4-54b0-4ed4-91ed-f11215376c20"
      },
      "execution_count": 101,
      "outputs": [
        {
          "output_type": "stream",
          "name": "stdout",
          "text": [
            "type of data get: <class 'bytes'>\n",
            "Encryption complete. Output saved to /content/drive/MyDrive/10MBEncryptedExeRSA.exe.\n",
            "Encryption complete. Output key saved to /content/drive/MyDrive/10MBEncryptedExeRSAkey.txt.\n",
            "Time spent: 0.18224922099943797 seconds\n"
          ]
        }
      ]
    },
    {
      "cell_type": "markdown",
      "source": [
        "## Time taken by 50MB exe file"
      ],
      "metadata": {
        "id": "KXnECI9MMUAD"
      }
    },
    {
      "cell_type": "code",
      "source": [
        "start_time = time.perf_counter()\n",
        "with open('/content/drive/MyDrive/publicKey.pem', 'r') as file:\n",
        "    public_key = RSA.import_key(file.read())\n",
        "    # print(public_key)\n",
        "\n",
        "\n",
        "input_file = '/content/drive/MyDrive/FilesForEncryption/ExeFiles/50MB.exe'\n",
        "output_file = f'/content/drive/MyDrive/50MBEncryptedExeRSA.exe'\n",
        "output_file_key = f'/content/drive/MyDrive/50MBEncryptedExeRSAkey.txt'\n",
        "key = generate_key_AES()\n",
        "\n",
        "encrypt_file_AES(input_file, output_file, key)\n",
        "encrypt_file_rsa(public_key, key, output_file_key)\n",
        "\n",
        "print(f'Encryption complete. Output saved to {output_file}.')\n",
        "print(f'Encryption complete. Output key saved to {output_file_key}.')\n",
        "end_time = time.perf_counter()\n",
        "\n",
        "time_spent = end_time - start_time\n",
        "print(f\"Time spent: {time_spent} seconds\")\n"
      ],
      "metadata": {
        "colab": {
          "base_uri": "https://localhost:8080/"
        },
        "id": "W23ne9kIMo9d",
        "outputId": "a7bf2763-a9c3-413e-f986-a8d48ecd12f2"
      },
      "execution_count": 102,
      "outputs": [
        {
          "output_type": "stream",
          "name": "stdout",
          "text": [
            "type of data get: <class 'bytes'>\n",
            "Encryption complete. Output saved to /content/drive/MyDrive/50MBEncryptedExeRSA.exe.\n",
            "Encryption complete. Output key saved to /content/drive/MyDrive/50MBEncryptedExeRSAkey.txt.\n",
            "Time spent: 0.6359828419999758 seconds\n"
          ]
        }
      ]
    }
  ],
  "metadata": {
    "colab": {
      "provenance": []
    },
    "kernelspec": {
      "display_name": "Python 3",
      "name": "python3"
    },
    "language_info": {
      "name": "python"
    }
  },
  "nbformat": 4,
  "nbformat_minor": 0
}